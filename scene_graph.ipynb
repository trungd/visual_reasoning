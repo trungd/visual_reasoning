{
 "cells": [
  {
   "cell_type": "code",
   "execution_count": 1,
   "metadata": {},
   "outputs": [],
   "source": [
    "import os\n",
    "import json\n",
    "\n",
    "ROOT = \"/home/trungvd/tmp/datasets/GQA\""
   ]
  },
  {
   "cell_type": "code",
   "execution_count": 15,
   "metadata": {},
   "outputs": [],
   "source": [
    "with open(os.path.join(ROOT, \"raw\", \"train_sceneGraphs.json\")) as f:\n",
    "    scence_graphs = json.load(f)"
   ]
  },
  {
   "cell_type": "code",
   "execution_count": 16,
   "metadata": {},
   "outputs": [
    {
     "name": "stdout",
     "output_type": "stream",
     "text": [
      "{'width': 500, 'objects': {'681267': {'name': 'banana', 'h': 34, 'relations': [{'object': '681262', 'name': 'to the left of'}], 'w': 64, 'attributes': ['small', 'yellow'], 'y': 55, 'x': 248}, '681265': {'name': 'spots', 'h': 16, 'relations': [], 'w': 26, 'attributes': [], 'y': 92, 'x': 245}, '681264': {'name': 'bananas', 'h': 50, 'relations': [{'object': '681259', 'name': 'to the left of'}], 'w': 49, 'attributes': ['small', 'yellow'], 'y': 32, 'x': 268}, '681263': {'name': 'picnic', 'h': 374, 'relations': [], 'w': 499, 'attributes': ['delicious'], 'y': 0, 'x': 0}, '681262': {'name': 'straw', 'h': 95, 'relations': [{'object': '681268', 'name': 'to the right of'}, {'object': '681267', 'name': 'to the right of'}, {'object': '681253', 'name': 'to the right of'}], 'w': 15, 'attributes': ['white', 'plastic'], 'y': 55, 'x': 402}, '681261': {'name': 'meat', 'h': 27, 'relations': [{'object': '681255', 'name': 'on'}, {'object': '681255', 'name': 'inside'}], 'w': 24, 'attributes': ['small', 'brown', 'delicious'], 'y': 123, 'x': 68}, '681260': {'name': 'rice', 'h': 57, 'relations': [{'object': '681255', 'name': 'on'}, {'object': '681258', 'name': 'to the left of'}], 'w': 93, 'attributes': ['piled', 'white'], 'y': 162, 'x': 57}, '681269': {'name': 'onions', 'h': 16, 'relations': [], 'w': 24, 'attributes': ['green'], 'y': 147, 'x': 90}, '681268': {'name': 'tablecloth', 'h': 374, 'relations': [{'object': '681262', 'name': 'to the left of'}], 'w': 396, 'attributes': ['white'], 'y': 0, 'x': 0}, '681258': {'name': 'bowl', 'h': 99, 'relations': [{'object': '681255', 'name': 'next to'}, {'object': '681257', 'name': 'of'}, {'object': '681255', 'name': 'near'}, {'object': '681256', 'name': 'to the right of'}, {'object': '681260', 'name': 'to the right of'}, {'object': '681255', 'name': 'to the right of'}], 'w': 115, 'attributes': ['full'], 'y': 184, 'x': 178}, '681259': {'name': 'plantains', 'h': 70, 'relations': [{'object': '681264', 'name': 'to the right of'}], 'w': 45, 'attributes': ['red'], 'y': 0, 'x': 346}, '681256': {'name': 'spoon', 'h': 65, 'relations': [{'object': '681255', 'name': 'on'}, {'object': '681257', 'name': 'to the left of'}, {'object': '681255', 'name': 'in'}, {'object': '681258', 'name': 'to the left of'}], 'w': 140, 'attributes': ['large', 'metal', 'silver'], 'y': 196, 'x': 0}, '681257': {'name': 'dish', 'h': 81, 'relations': [{'object': '681258', 'name': 'inside'}, {'object': '681256', 'name': 'to the right of'}, {'object': '681258', 'name': 'in'}, {'object': '681255', 'name': 'to the right of'}], 'w': 108, 'attributes': ['cream colored'], 'y': 199, 'x': 187}, '681254': {'name': 'meal', 'h': 111, 'relations': [], 'w': 130, 'attributes': [], 'y': 121, 'x': 58}, '681255': {'name': 'plate', 'h': 138, 'relations': [{'object': '681257', 'name': 'to the left of'}, {'object': '681254', 'name': 'of'}, {'object': '681254', 'name': 'with'}, {'object': '681258', 'name': 'near'}, {'object': '681258', 'name': 'to the left of'}], 'w': 176, 'attributes': ['white', 'full'], 'y': 111, 'x': 30}, '681253': {'name': 'banana', 'h': 30, 'relations': [{'object': '681262', 'name': 'to the left of'}], 'w': 73, 'attributes': ['small', 'yellow'], 'y': 87, 'x': 237}}, 'height': 375}\n"
     ]
    }
   ],
   "source": [
    "graph_keys = list(scence_graphs.keys())\n",
    "print(scence_graphs[graph_keys[0]])"
   ]
  },
  {
   "cell_type": "code",
   "execution_count": 17,
   "metadata": {},
   "outputs": [
    {
     "name": "stdout",
     "output_type": "stream",
     "text": [
      "310\n"
     ]
    }
   ],
   "source": [
    "relations = set()\n",
    "for graph in scence_graphs.values():\n",
    "    for obj in graph['objects'].values():\n",
    "        for relation in obj['relations']:\n",
    "            relations.add(relation['name'])\n",
    "\n",
    "print(len(relations))"
   ]
  },
  {
   "cell_type": "code",
   "execution_count": 19,
   "metadata": {},
   "outputs": [
    {
     "name": "stdout",
     "output_type": "stream",
     "text": [
      "617\n"
     ]
    }
   ],
   "source": [
    "concepts = set()\n",
    "for graph in scence_graphs.values():\n",
    "    for obj in graph['objects'].values():\n",
    "        concepts |= set(obj['attributes'])\n",
    "\n",
    "print(len(concepts))"
   ]
  },
  {
   "cell_type": "code",
   "execution_count": null,
   "metadata": {},
   "outputs": [],
   "source": [
    "\n",
    "\n"
   ]
  }
 ],
 "metadata": {
  "kernelspec": {
   "display_name": "Python 3",
   "language": "python",
   "name": "python3"
  },
  "language_info": {
   "codemirror_mode": {
    "name": "ipython",
    "version": 3
   },
   "file_extension": ".py",
   "mimetype": "text/x-python",
   "name": "python",
   "nbconvert_exporter": "python",
   "pygments_lexer": "ipython3",
   "version": "3.8.2"
  }
 },
 "nbformat": 4,
 "nbformat_minor": 4
}
